{
  "nbformat": 4,
  "nbformat_minor": 0,
  "metadata": {
    "colab": {
      "name": "ShapeMatchingGAN.ipynb",
      "provenance": [],
      "private_outputs": true,
      "machine_shape": "hm",
      "include_colab_link": true
    },
    "kernelspec": {
      "name": "python3",
      "display_name": "Python 3"
    },
    "accelerator": "GPU"
  },
  "cells": [
    {
      "cell_type": "markdown",
      "metadata": {
        "id": "view-in-github",
        "colab_type": "text"
      },
      "source": [
        "<a href=\"https://colab.research.google.com/github/dvschultz/ShapeMatchingGAN/blob/master/ShapeMatchingGAN.ipynb\" target=\"_parent\"><img src=\"https://colab.research.google.com/assets/colab-badge.svg\" alt=\"Open In Colab\"/></a>"
      ]
    },
    {
      "cell_type": "markdown",
      "metadata": {
        "id": "bggI8BG3q0Gx",
        "colab_type": "text"
      },
      "source": [
        "#Shape Matching GAN\n",
        "\n",
        "Shape Matching GAN converts imaage textures to fit in shapes. Is it like style transfer? Kind of but no. Is it like CycleGAN? Also kind of, but no.\n",
        "\n",
        "See [the project page](https://williamyang1991.github.io/projects/ICCV2019/SMGAN.html) for more.\n",
        "\n",
        "I’ll show you how to load the library, run examples using the pre-trained models, and then train your own model. Be aware training can take up to the limit of Colab so you might want to save it to Google Drive just to be safe."
      ]
    },
    {
      "cell_type": "markdown",
      "metadata": {
        "id": "w_fiYiHpq6AN",
        "colab_type": "text"
      },
      "source": [
        "# Install Library and required data"
      ]
    },
    {
      "cell_type": "code",
      "metadata": {
        "id": "-E01QRzOpsDY",
        "colab_type": "code",
        "colab": {}
      },
      "source": [
        "!git clone https://github.com/dvschultz/ShapeMatchingGAN\n",
        "%cd ShapeMatchingGAN/save\n",
        "!gdown --id 1gjHR39deUSPChtRbKAD80waoQFTiXyMs #download example checkpoint files\n",
        "!unzip ShapeMGAN-data_plus_model.zip\n",
        "!rm -r data/style\n",
        "!mkdir ../data/rawtext/yaheiB/train\n",
        "!mv data/rawtext/yaheiB/train/*.* ../data/rawtext/yaheiB/train/\n",
        "!mkdir ../data/rawtext/augment\n",
        "!mv data/rawtext/augment/*.* ../data/rawtext/augment/\n",
        "!mv save/*.* ./\n",
        "!rmdir save\n",
        "!rm ShapeMGAN-data_plus_model.zip\n",
        "!rm -r data\n",
        "%cd ../src"
      ],
      "execution_count": 0,
      "outputs": []
    },
    {
      "cell_type": "markdown",
      "metadata": {
        "id": "yOTHDp1Y3sqY",
        "colab_type": "text"
      },
      "source": [
        "Optionally, if you want to do training I recommend connecting a Google Drive account to Colab."
      ]
    },
    {
      "cell_type": "code",
      "metadata": {
        "id": "TOGBBOXW37Ji",
        "colab_type": "code",
        "colab": {}
      },
      "source": [
        "from google.colab import drive\n",
        "drive.mount('/gdrive')"
      ],
      "execution_count": 0,
      "outputs": []
    },
    {
      "cell_type": "markdown",
      "metadata": {
        "id": "ZVYpIQgSvC__",
        "colab_type": "text"
      },
      "source": [
        "# Test\n",
        "Let’s run a sample test to see how it does. This will generate a file named 'output.png' in your `/output/` folder.\n",
        "\n",
        "There are four pretrained models to train from: fire, maple leaves, water, and smoke."
      ]
    },
    {
      "cell_type": "code",
      "metadata": {
        "id": "vx09rB-qqlrS",
        "colab_type": "code",
        "colab": {}
      },
      "source": [
        "!python test.py --scale 0.0 --structure_model ../save/fire-GS-iccv.ckpt --texture_model ../save/fire-GT-iccv.ckpt --gpu"
      ],
      "execution_count": 0,
      "outputs": []
    },
    {
      "cell_type": "markdown",
      "metadata": {
        "id": "JZBTzlk-vXev",
        "colab_type": "text"
      },
      "source": [
        "Another example with some additional arguments. This will generate multiple images at different “scales.” It will produce something like an animation when all the frames are combined."
      ]
    },
    {
      "cell_type": "code",
      "metadata": {
        "id": "UZLTUumNueb_",
        "colab_type": "code",
        "colab": {}
      },
      "source": [
        "!python test.py --text_name ../data/rawtext/yaheiB/val/0801.png --scale -1 --scale_step 0.005 --structure_model ../save/fire-GS-iccv.ckpt --texture_model ../save/fire-GT-iccv.ckpt --result_dir ../output --name fire-0801 --gpu"
      ],
      "execution_count": 0,
      "outputs": []
    },
    {
      "cell_type": "markdown",
      "metadata": {
        "id": "TM3BAAZP5S-f",
        "colab_type": "text"
      },
      "source": [
        "We can zip all of these images up and download them. Once finished, in the Files tab on the left you’ll see a file named `fire_images.zip` Control-click on it and select `Download`."
      ]
    },
    {
      "cell_type": "code",
      "metadata": {
        "id": "GgrNF6wDvmkZ",
        "colab_type": "code",
        "colab": {}
      },
      "source": [
        "!zip /content/fire_images.zip /content/ShapeMatchingGAN/output/fire-0801_*.png"
      ],
      "execution_count": 0,
      "outputs": []
    },
    {
      "cell_type": "markdown",
      "metadata": {
        "id": "cCAsLjYPcARi",
        "colab_type": "text"
      },
      "source": [
        "# Train a custom model\n",
        "Training a custom model happens in 3 different training parts. From what I can tell you don’t need to train the Sketch Module—the pretrained model is fine."
      ]
    },
    {
      "cell_type": "markdown",
      "metadata": {
        "id": "Zog-Fidxv50A",
        "colab_type": "text"
      },
      "source": [
        "## Image Pre-processing\n",
        "To train a custom model you need to process your image in the format SMGAN requires.\n",
        "\n",
        "First, upload two images to Colab. The first image should be the image you want the texture/style from. The second image should be a masked (black/white) version of this image. See the examples in the `uploads` folder.\n",
        "\n",
        "Once uploaded, run the next command with the paths for each image as arguments."
      ]
    },
    {
      "cell_type": "code",
      "metadata": {
        "id": "v2zwiPSOv7fB",
        "colab_type": "code",
        "colab": {}
      },
      "source": [
        "!python preprocess.py --image ../uploads/sample_v3.png --image_mask ../uploads/sample_mask_v3.png --max_height 400"
      ],
      "execution_count": 0,
      "outputs": []
    },
    {
      "cell_type": "markdown",
      "metadata": {
        "id": "mIGkErmO1ZFN",
        "colab_type": "text"
      },
      "source": [
        "When that cell has finished, there will be a new image in your `data/style` folder. Use this file with the `--style_name` argument when training."
      ]
    },
    {
      "cell_type": "markdown",
      "metadata": {
        "id": "hoS-wch67a_Y",
        "colab_type": "text"
      },
      "source": [
        "## Train the Sketch Module (optional)\n",
        "The Sketch Module is trained on the letter shapes. Unless you have a specific need you can use the pre-trained model for this."
      ]
    },
    {
      "cell_type": "code",
      "metadata": {
        "id": "GcMuSmKgwNtL",
        "colab_type": "code",
        "colab": {}
      },
      "source": [
        "# !python trainSketchModule.py --help\n",
        "!python trainSketchModule.py --text_path ../data/rawtext/yaheiB/train --text_datasize 708 --augment_text_path ../data/rawtext/augment --augment_text_datasize 5 --batchsize 16 --Btraining_num 12800 --save_GB_name ../save/GB.ckpt --gpu"
      ],
      "execution_count": 0,
      "outputs": []
    },
    {
      "cell_type": "markdown",
      "metadata": {
        "id": "E8BOD9GPt6Tp",
        "colab_type": "text"
      },
      "source": [
        "## Train the Structure Transfer model\n",
        "\n",
        "The Structure Transfer model will take the most time to train—usually it takes a few hours to train. \n",
        "\n",
        "When completed there will be two new models in the `/save` folder. One is labeled {name}-GS.ckpt and the other {name}-DS.ckpt. You should download the GS as soon as its done—you don’t need the DS checkpoint unless you want to resume training at a later date."
      ]
    },
    {
      "cell_type": "code",
      "metadata": {
        "id": "kyj4iSQ-cqnt",
        "colab_type": "code",
        "colab": {}
      },
      "source": [
        "!python trainStructureTransfer.py --style_name ../data/style/sample_v3.png --batchsize 16 --Straining_num 2560 --step1_epochs 30 --step2_epochs 40 --step3_epochs 80 --scale_num 4 --save_path ../save --save_name sample_v3 --gpu\n",
        "#!python trainStructureTransfer.py --style_name ../data/style/ladiescrop-720.png --batchsize 16 --Straining_num 2560 --step1_epochs 30 --step2_epochs 40 --step3_epochs 80 --scale_num 4 --Sanglejitter --save_path ../save --save_name ladies --gpu"
      ],
      "execution_count": 0,
      "outputs": []
    },
    {
      "cell_type": "markdown",
      "metadata": {
        "id": "ThDCGaSmFVEZ",
        "colab_type": "text"
      },
      "source": [
        "## Train the Texture Transfer\n",
        "The Texture Transfer model will take the some time to train, but is much faster than the Structure model. It usually takes me an ~hour or so. \n",
        "\n",
        "When completed there will be two new models in the `/save` folder. One is labeled {name}-GT.ckpt and the other {name}-DT.ckpt. You should download the GT as soon as its done—you don’t need the DT checkpoint unless you want to resume training at a later date."
      ]
    },
    {
      "cell_type": "code",
      "metadata": {
        "id": "1EK_I4ikFc4q",
        "colab_type": "code",
        "colab": {}
      },
      "source": [
        "!python trainTextureTransfer.py --style_name ../data/style/sample_v3.png --batchsize 4 --Ttraining_num 800 --texture_step1_epochs 40 --save_path ../save --save_name sample_v3 --gpu"
      ],
      "execution_count": 0,
      "outputs": []
    },
    {
      "cell_type": "markdown",
      "metadata": {
        "id": "K8auwCEb7ozH",
        "colab_type": "text"
      },
      "source": [
        "Now run a test using your custom model. make sure to reference your new GS and GT models."
      ]
    },
    {
      "cell_type": "code",
      "metadata": {
        "id": "Sul_KdsX7nv1",
        "colab_type": "code",
        "colab": {}
      },
      "source": [
        "!python test.py --text_name ../data/rawtext/yaheiB/val/0801.png --scale -1 --scale_step 0.005 --structure_model ../save/sample_v3-GS.ckpt --texture_model ../save/sample_v3-GT.ckpt --result_dir ../output --name sample_v3-0801 --gpu"
      ],
      "execution_count": 0,
      "outputs": []
    },
    {
      "cell_type": "code",
      "metadata": {
        "id": "lp6siVUNEwwr",
        "colab_type": "code",
        "colab": {}
      },
      "source": [
        "!zip sample_v3.zip /content/ShapeMatchingGAN/output/sample_v3-0801_*.png"
      ],
      "execution_count": 0,
      "outputs": []
    },
    {
      "cell_type": "code",
      "metadata": {
        "id": "QTYXq-qsZw6z",
        "colab_type": "code",
        "colab": {}
      },
      "source": [
        ""
      ],
      "execution_count": 0,
      "outputs": []
    }
  ]
}